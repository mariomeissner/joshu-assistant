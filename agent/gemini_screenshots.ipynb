{
 "cells": [
  {
   "cell_type": "code",
   "execution_count": null,
   "metadata": {},
   "outputs": [],
   "source": [
    "%pip install google-generativeai\n",
    "%pip install pillow\n",
    "%pip install python-dotenv"
   ]
  },
  {
   "cell_type": "code",
   "execution_count": null,
   "metadata": {},
   "outputs": [],
   "source": [
    "import google.generativeai as genai\n",
    "from dotenv import load_dotenv\n",
    "import os\n",
    "\n",
    "load_dotenv() \n",
    "genai.configure(api_key=os.environ[\"GOOGLE_API_KEY\"])\n"
   ]
  },
  {
   "cell_type": "code",
   "execution_count": 3,
   "metadata": {},
   "outputs": [],
   "source": [
    "programs = genai.protos.Schema(\n",
    "    type=genai.protos.Type.OBJECT,\n",
    "    properties={\n",
    "        'program_name': genai.protos.Schema(type=genai.protos.Type.STRING),\n",
    "        'program_description': genai.protos.Schema(\n",
    "            type=genai.protos.Type.STRING,\n",
    "            description=\"Description of the program\"\n",
    "        ),\n",
    "        'is_active': genai.protos.Schema(\n",
    "            type=genai.protos.Type.BOOLEAN,\n",
    "            description=\"Whether the program is currently active\"\n",
    "        ),\n",
    "        'program_type': genai.protos.Schema(\n",
    "            type=genai.protos.Type.STRING,\n",
    "            enum=[\n",
    "                \"browser\",\n",
    "                \"email\",\n",
    "                \"chat\",\n",
    "                \"calendar\"\n",
    "            ],\n",
    "            description=\"Type of the program\"\n",
    "        ),\n",
    "        'program_info': genai.protos.Schema(\n",
    "            type=genai.protos.Type.STRING,\n",
    "            description=\"valid json information about the program based on the program type, e.g email client with email showing should have subject, content, sender, etc. if it is a browser it will be the url, page title, etc. if it is a calendar it will be the date, time, highlighted, conflict\"\n",
    "        ),\n",
    "\n",
    "    },\n",
    "    required=['program_name', 'program_description', 'program_type']\n",
    ")"
   ]
  },
  {
   "cell_type": "code",
   "execution_count": 4,
   "metadata": {},
   "outputs": [],
   "source": [
    "screenshot_data_schema = genai.protos.Schema(\n",
    "    type=genai.protos.Type.OBJECT,\n",
    "    properties={\n",
    "        'general_scene_description': genai.protos.Schema(\n",
    "            type=genai.protos.Type.STRING,\n",
    "            description=\"Description of screenshot and user activity in the scene\"\n",
    "        ),\n",
    "        'programs_in_scene': genai.protos.Schema(\n",
    "            type=genai.protos.Type.ARRAY,\n",
    "            items=programs,\n",
    "            description=\"An array of all programs running in the screenshot it may only be one\"\n",
    "        ),\n",
    "        'mouse_action': genai.protos.Schema(\n",
    "            type=genai.protos.Type.STRING,\n",
    "            description=\"what the user is doing with the mouse, hovering a button, clicking a button, etc.\"\n",
    "        )\n",
    "    },\n",
    "    required=['general_scene_description', 'programs_in_scene', 'mouse_action']\n",
    ")"
   ]
  },
  {
   "cell_type": "code",
   "execution_count": 5,
   "metadata": {},
   "outputs": [],
   "source": [
    "screenshot_tools = genai.protos.FunctionDeclaration(\n",
    "    name=\"screenshot_data\",\n",
    "    description=\"Get data about the screenshot and what the user is doing with the mouse\",\n",
    "    parameters=screenshot_data_schema\n",
    ")"
   ]
  },
  {
   "cell_type": "code",
   "execution_count": 6,
   "metadata": {},
   "outputs": [],
   "source": [
    "model = genai.GenerativeModel(\n",
    "    \"gemini-1.5-pro-latest\",\n",
    "    tools=[screenshot_tools]\n",
    ")"
   ]
  },
  {
   "cell_type": "code",
   "execution_count": 7,
   "metadata": {},
   "outputs": [],
   "source": [
    "import os\n",
    "from PIL import Image\n",
    "# Get the directory where the current script is located\n",
    "current_dir = os.getcwd()\n",
    "image_dir = os.path.join(current_dir, \"../test_images\")\n",
    "\n",
    "files = sorted(os.listdir(image_dir), \n",
    "              key=lambda x: int(x.replace('s', '').split('.')[0]))\n",
    "\n",
    "for file in files:\n",
    "    image = Image.open(os.path.join(image_dir, file))\n",
    "    result = model.generate_content(\n",
    "        [\"describe the screenshot and what the user is doing with the mouse\", image]\n",
    "    )\n",
    "    print(\"file:\", file)\n",
    "    print(result)\n"
   ]
  },
  {
   "cell_type": "code",
   "execution_count": null,
   "metadata": {},
   "outputs": [],
   "source": []
  }
 ],
 "metadata": {
  "kernelspec": {
   "display_name": "baton-pass",
   "language": "python",
   "name": "python3"
  },
  "language_info": {
   "codemirror_mode": {
    "name": "ipython",
    "version": 3
   },
   "file_extension": ".py",
   "mimetype": "text/x-python",
   "name": "python",
   "nbconvert_exporter": "python",
   "pygments_lexer": "ipython3",
   "version": "3.10.12"
  }
 },
 "nbformat": 4,
 "nbformat_minor": 2
}
