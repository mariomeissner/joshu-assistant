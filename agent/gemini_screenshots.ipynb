{
 "cells": [
  {
   "cell_type": "markdown",
   "metadata": {},
   "source": [
    "# imports"
   ]
  },
  {
   "cell_type": "code",
   "execution_count": null,
   "metadata": {},
   "outputs": [],
   "source": [
    "%pip install google-generativeai\n",
    "%pip install pillow\n",
    "%pip install python-dotenv"
   ]
  },
  {
   "cell_type": "code",
   "execution_count": 103,
   "metadata": {},
   "outputs": [],
   "source": [
    "import google.generativeai as genai\n",
    "from dotenv import load_dotenv\n",
    "import os\n",
    "from PIL import Image\n",
    "import json\n",
    "\n",
    "load_dotenv() \n",
    "genai.configure(api_key=os.environ[\"GOOGLE_API_KEY\"])\n"
   ]
  },
  {
   "cell_type": "code",
   "execution_count": 104,
   "metadata": {},
   "outputs": [],
   "source": [
    "programs = genai.protos.Schema(\n",
    "    type=genai.protos.Type.OBJECT,\n",
    "    properties={\n",
    "        'program_name': genai.protos.Schema(type=genai.protos.Type.STRING),\n",
    "        'program_description': genai.protos.Schema(\n",
    "            type=genai.protos.Type.STRING,\n",
    "            description=\"Description of the program\"\n",
    "        ),\n",
    "        'is_active': genai.protos.Schema(\n",
    "            type=genai.protos.Type.BOOLEAN,\n",
    "            description=\"Whether the program is currently active\"\n",
    "        ),\n",
    "        'program_type': genai.protos.Schema(\n",
    "            type=genai.protos.Type.STRING,\n",
    "            enum=[\n",
    "                \"browser\",\n",
    "                \"email\",\n",
    "                \"chat\",\n",
    "                \"calendar\"\n",
    "            ],\n",
    "            description=\"Type of the program\"\n",
    "        ),\n",
    "        'program_info': genai.protos.Schema(\n",
    "            type=genai.protos.Type.STRING,\n",
    "            description=\"valid json information about the program based on the program type, e.g email client with email showing should have subject, content, sender, etc. if it is a browser it will be the url, page title, etc. if it is a calendar it will be the date, time, highlighted, conflict\"\n",
    "        ),\n",
    "\n",
    "    },\n",
    "    required=['program_name', 'program_description', 'program_type']\n",
    ")"
   ]
  },
  {
   "cell_type": "code",
   "execution_count": 105,
   "metadata": {},
   "outputs": [],
   "source": [
    "screenshot_data_schema = genai.protos.Schema(\n",
    "    type=genai.protos.Type.OBJECT,\n",
    "    properties={\n",
    "        'general_scene_description': genai.protos.Schema(\n",
    "            type=genai.protos.Type.STRING,\n",
    "            description=\"Description of screenshot and user activity in the scene\"\n",
    "        ),\n",
    "        'programs_in_scene': genai.protos.Schema(\n",
    "            type=genai.protos.Type.ARRAY,\n",
    "            items=programs,\n",
    "            description=\"An array of all programs running in the screenshot it may only be one\"\n",
    "        ),\n",
    "        'mouse_action': genai.protos.Schema(\n",
    "            type=genai.protos.Type.STRING,\n",
    "            description=\"what the user is doing with the mouse, hovering a button, clicking a button, etc.\"\n",
    "        )\n",
    "    },\n",
    "    required=['general_scene_description', 'programs_in_scene', 'mouse_action']\n",
    ")"
   ]
  },
  {
   "cell_type": "code",
   "execution_count": 106,
   "metadata": {},
   "outputs": [],
   "source": [
    "screenshot_tools = genai.protos.FunctionDeclaration(\n",
    "    name=\"screenshot_data\",\n",
    "    description=\"Get data about the screenshot and what the user is doing with the mouse\",\n",
    "    parameters=screenshot_data_schema\n",
    ")"
   ]
  },
  {
   "cell_type": "code",
   "execution_count": 107,
   "metadata": {},
   "outputs": [],
   "source": [
    "model = genai.GenerativeModel(\n",
    "    \"gemini-1.5-pro-latest\",\n",
    "    tools=[screenshot_tools]\n",
    ")"
   ]
  },
  {
   "cell_type": "markdown",
   "metadata": {},
   "source": [
    "# Images to text"
   ]
  },
  {
   "cell_type": "code",
   "execution_count": 108,
   "metadata": {},
   "outputs": [],
   "source": [
    "\n",
    "current_dir = os.getcwd()\n",
    "image_dir = os.path.join(current_dir, \"final_images\")\n",
    "\n",
    "files = sorted(os.listdir(image_dir), \n",
    "              key=lambda x: int(x.replace('output_', '').split('.')[0]))\n",
    "results = []\n",
    "for file in files:\n",
    "    image = Image.open(os.path.join(image_dir, file))\n",
    "    result = model.generate_content(\n",
    "        [\"describe the screenshot and what the user is doing with the mouse\", image]\n",
    "    )\n",
    "    results.append(result)"
   ]
  },
  {
   "cell_type": "code",
   "execution_count": 109,
   "metadata": {},
   "outputs": [],
   "source": [
    "def get_text_from_result(result):\n",
    "    # Convert MapComposite to regular dictionary\n",
    "    data_dict = dict(result.candidates[0].content.parts[0].function_call.args)\n",
    "    # print(data_dict)\n",
    "    # If you need text/string values\n",
    "    text_data = {}\n",
    "    for key, value in data_dict.items():\n",
    "        if hasattr(value, 'text_value'):\n",
    "            text_data[key] = value.text_value\n",
    "        elif isinstance(value, str):\n",
    "            text_data[key] = value\n",
    "        elif key == 'programs_in_scene':\n",
    "            for k in ['program_name', 'program_description', 'program_type']:\n",
    "                text_data[k] = dict(value[0]).get(k,'Unknown')\n",
    "\n",
    "            \n",
    "    return text_data\n",
    "\n",
    "json_data_from_images = [{\"action\":get_text_from_result(result)} for result in results]\n"
   ]
  },
  {
   "cell_type": "code",
   "execution_count": null,
   "metadata": {},
   "outputs": [],
   "source": [
    "for i, j in enumerate(json_data_from_images):\n",
    "    print(j)\n",
    "    os.makedirs('json_data_from_images', exist_ok=True)\n",
    "    with open(f'json_data_from_images/{i:03d}.json', 'w') as f:\n",
    "        json.dump(j, f)"
   ]
  },
  {
   "cell_type": "markdown",
   "metadata": {},
   "source": [
    "# knowledge_base: generate what and why database "
   ]
  },
  {
   "cell_type": "code",
   "execution_count": 112,
   "metadata": {},
   "outputs": [],
   "source": [
    "llm = genai.GenerativeModel(\n",
    "    \"gemini-1.5-pro-latest\"\n",
    ")"
   ]
  },
  {
   "cell_type": "code",
   "execution_count": null,
   "metadata": {},
   "outputs": [],
   "source": [
    "knowledge_base = []\n",
    "\n",
    "for i in range(1,len(json_data_from_images)-2):\n",
    "    data = json_data_from_images[i:i+2]\n",
    "    response =llm.generate_content([f\"Describe in details what the user is doing and why the user took the last action. Return the results in json format whith two keys: 'what' and 'why'. Here is the situation data: {data}\"])\n",
    "    knowledge_base.append(response.candidates[0].content.parts[0].text.replace(\"```json\",\"\").replace(\"```\",\"\"))\n",
    "    print(f\"{i}: data {data}: {knowledge_base[-1]}\")"
   ]
  },
  {
   "cell_type": "markdown",
   "metadata": {},
   "source": [
    "# Ask Joshu"
   ]
  },
  {
   "cell_type": "code",
   "execution_count": null,
   "metadata": {},
   "outputs": [],
   "source": [
    "lessons = \"\"\"# Lessons\n",
    "* **Client Prioritization:** This interaction highlights the importance of prioritizing client needs, especially when dealing with key clients. The employee recognizes the potential conflict and immediately seeks guidance from their boss on how to best accommodate the client.\n",
    "* **Communication is Key:**  The employee effectively communicates the scheduling conflict to their boss and asks for clear instructions.  This proactive communication ensures everyone is aware of the situation and prevents any misunderstandings.\n",
    "* **Time Management and Scheduling:**  The scenario emphasizes the need for effective time management and scheduling practices.  Using a calendar application and checking it before rescheduling meetings helps prevent conflicts.\n",
    "* **Following Chain of Command:** The employee appropriately consults their boss before making a decision that could impact other important meetings, demonstrating a good understanding of workplace hierarchy.\n",
    "* **Importance of Documentation (Indirect):** While not explicitly shown, the detailed \"Action History\" underlines the importance of documenting actions, especially when multiple parties are involved. This record can be useful for reviewing the decision-making process and for training purposes.\"\"\"\n",
    "\n",
    "# This ara actions with reasons of what happened in the past. {knowledge_base}. This are some lessons we learnt from this: {lessons}. \n",
    "email_from_boss = \"\"\"\n",
    "Sure,\n",
    "Fujitsu is a very important client, we should always put Fujitsu first.\n",
    "Feel free to reschedule our Very Important Meeting.\n",
    "For future reference, you do not need to ask my permission to reschedule a meeting with a client. Clients always come first.\n",
    "Just reschedule the meeting with the client, without the need to ask my permission, nor to contact me.\n",
    "\n",
    "\"\"\"\n",
    "response =llm.generate_content([f\"\"\"\n",
    "                                Your objective as an assistant is to utilize the lessons learnt, avoid the same mistakes, including repeating teh same actions if they can be avoided. \n",
    "                                This is an email from a boss to an employee asking to reschedule an internal meeting: {email_from_boss}\n",
    "                                    I have just received an email from an important client, asking to reschedule a meeting. The desired reschedulling time conflicts with a very important internal meeting. Should I reschedule the meeting or contact my boss first?\"\"\",])\n",
    "print(response.candidates[0].content.parts[0].text)\n"
   ]
  },
  {
   "cell_type": "code",
   "execution_count": null,
   "metadata": {},
   "outputs": [],
   "source": []
  }
 ],
 "metadata": {
  "kernelspec": {
   "display_name": "baton-pass",
   "language": "python",
   "name": "python3"
  },
  "language_info": {
   "codemirror_mode": {
    "name": "ipython",
    "version": 3
   },
   "file_extension": ".py",
   "mimetype": "text/x-python",
   "name": "python",
   "nbconvert_exporter": "python",
   "pygments_lexer": "ipython3",
   "version": "3.10.12"
  }
 },
 "nbformat": 4,
 "nbformat_minor": 2
}
