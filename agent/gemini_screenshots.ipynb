{
 "cells": [
  {
   "cell_type": "markdown",
   "metadata": {},
   "source": [
    "# imports"
   ]
  },
  {
   "cell_type": "code",
   "execution_count": 1,
   "metadata": {},
   "outputs": [
    {
     "name": "stdout",
     "output_type": "stream",
     "text": [
      "Requirement already satisfied: google-generativeai in ./venv/lib/python3.10/site-packages (0.8.3)\n",
      "Requirement already satisfied: google-api-python-client in ./venv/lib/python3.10/site-packages (from google-generativeai) (2.153.0)\n",
      "Requirement already satisfied: pydantic in ./venv/lib/python3.10/site-packages (from google-generativeai) (2.9.2)\n",
      "Requirement already satisfied: typing-extensions in ./venv/lib/python3.10/site-packages (from google-generativeai) (4.12.2)\n",
      "Requirement already satisfied: protobuf in ./venv/lib/python3.10/site-packages (from google-generativeai) (5.28.3)\n",
      "Requirement already satisfied: google-api-core in ./venv/lib/python3.10/site-packages (from google-generativeai) (2.23.0)\n",
      "Requirement already satisfied: google-auth>=2.15.0 in ./venv/lib/python3.10/site-packages (from google-generativeai) (2.36.0)\n",
      "Requirement already satisfied: google-ai-generativelanguage==0.6.10 in ./venv/lib/python3.10/site-packages (from google-generativeai) (0.6.10)\n",
      "Requirement already satisfied: tqdm in ./venv/lib/python3.10/site-packages (from google-generativeai) (4.67.0)\n",
      "Requirement already satisfied: proto-plus<2.0.0dev,>=1.22.3 in ./venv/lib/python3.10/site-packages (from google-ai-generativelanguage==0.6.10->google-generativeai) (1.25.0)\n",
      "Requirement already satisfied: rsa<5,>=3.1.4 in ./venv/lib/python3.10/site-packages (from google-auth>=2.15.0->google-generativeai) (4.9)\n",
      "Requirement already satisfied: pyasn1-modules>=0.2.1 in ./venv/lib/python3.10/site-packages (from google-auth>=2.15.0->google-generativeai) (0.4.1)\n",
      "Requirement already satisfied: cachetools<6.0,>=2.0.0 in ./venv/lib/python3.10/site-packages (from google-auth>=2.15.0->google-generativeai) (5.5.0)\n",
      "Requirement already satisfied: googleapis-common-protos<2.0.dev0,>=1.56.2 in ./venv/lib/python3.10/site-packages (from google-api-core->google-generativeai) (1.66.0)\n",
      "Requirement already satisfied: requests<3.0.0.dev0,>=2.18.0 in ./venv/lib/python3.10/site-packages (from google-api-core->google-generativeai) (2.32.3)\n",
      "Requirement already satisfied: google-auth-httplib2<1.0.0,>=0.2.0 in ./venv/lib/python3.10/site-packages (from google-api-python-client->google-generativeai) (0.2.0)\n",
      "Requirement already satisfied: httplib2<1.dev0,>=0.19.0 in ./venv/lib/python3.10/site-packages (from google-api-python-client->google-generativeai) (0.22.0)\n",
      "Requirement already satisfied: uritemplate<5,>=3.0.1 in ./venv/lib/python3.10/site-packages (from google-api-python-client->google-generativeai) (4.1.1)\n",
      "Requirement already satisfied: pydantic-core==2.23.4 in ./venv/lib/python3.10/site-packages (from pydantic->google-generativeai) (2.23.4)\n",
      "Requirement already satisfied: annotated-types>=0.6.0 in ./venv/lib/python3.10/site-packages (from pydantic->google-generativeai) (0.7.0)\n",
      "Requirement already satisfied: grpcio<2.0dev,>=1.33.2 in ./venv/lib/python3.10/site-packages (from google-api-core->google-generativeai) (1.68.0)\n",
      "Requirement already satisfied: grpcio-status<2.0.dev0,>=1.33.2 in ./venv/lib/python3.10/site-packages (from google-api-core->google-generativeai) (1.68.0)\n",
      "Requirement already satisfied: pyparsing!=3.0.0,!=3.0.1,!=3.0.2,!=3.0.3,<4,>=2.4.2 in ./venv/lib/python3.10/site-packages (from httplib2<1.dev0,>=0.19.0->google-api-python-client->google-generativeai) (3.2.0)\n",
      "Requirement already satisfied: pyasn1<0.7.0,>=0.4.6 in ./venv/lib/python3.10/site-packages (from pyasn1-modules>=0.2.1->google-auth>=2.15.0->google-generativeai) (0.6.1)\n",
      "Requirement already satisfied: idna<4,>=2.5 in ./venv/lib/python3.10/site-packages (from requests<3.0.0.dev0,>=2.18.0->google-api-core->google-generativeai) (3.10)\n",
      "Requirement already satisfied: charset-normalizer<4,>=2 in ./venv/lib/python3.10/site-packages (from requests<3.0.0.dev0,>=2.18.0->google-api-core->google-generativeai) (3.4.0)\n",
      "Requirement already satisfied: certifi>=2017.4.17 in ./venv/lib/python3.10/site-packages (from requests<3.0.0.dev0,>=2.18.0->google-api-core->google-generativeai) (2024.8.30)\n",
      "Requirement already satisfied: urllib3<3,>=1.21.1 in ./venv/lib/python3.10/site-packages (from requests<3.0.0.dev0,>=2.18.0->google-api-core->google-generativeai) (2.2.3)\n",
      "Note: you may need to restart the kernel to use updated packages.\n",
      "Requirement already satisfied: pillow in ./venv/lib/python3.10/site-packages (11.0.0)\n",
      "Note: you may need to restart the kernel to use updated packages.\n",
      "Requirement already satisfied: python-dotenv in ./venv/lib/python3.10/site-packages (1.0.1)\n",
      "Note: you may need to restart the kernel to use updated packages.\n"
     ]
    }
   ],
   "source": [
    "%pip install google-generativeai\n",
    "%pip install pillow\n",
    "%pip install python-dotenv"
   ]
  },
  {
   "cell_type": "code",
   "execution_count": 2,
   "metadata": {},
   "outputs": [
    {
     "name": "stderr",
     "output_type": "stream",
     "text": [
      "/home/v/gg/vs/screenshot-thing/agent/venv/lib/python3.10/site-packages/tqdm/auto.py:21: TqdmWarning: IProgress not found. Please update jupyter and ipywidgets. See https://ipywidgets.readthedocs.io/en/stable/user_install.html\n",
      "  from .autonotebook import tqdm as notebook_tqdm\n"
     ]
    }
   ],
   "source": [
    "import google.generativeai as genai\n",
    "from dotenv import load_dotenv\n",
    "import os\n",
    "from PIL import Image\n",
    "import json\n",
    "\n",
    "load_dotenv() \n",
    "genai.configure(api_key=os.environ[\"GOOGLE_API_KEY\"])\n"
   ]
  },
  {
   "cell_type": "code",
   "execution_count": 3,
   "metadata": {},
   "outputs": [],
   "source": [
    "programs = genai.protos.Schema(\n",
    "    type=genai.protos.Type.OBJECT,\n",
    "    properties={\n",
    "        'program_name': genai.protos.Schema(type=genai.protos.Type.STRING),\n",
    "        'program_description': genai.protos.Schema(\n",
    "            type=genai.protos.Type.STRING,\n",
    "            description=\"Description of the program\"\n",
    "        ),\n",
    "        'is_active': genai.protos.Schema(\n",
    "            type=genai.protos.Type.BOOLEAN,\n",
    "            description=\"Whether the program is currently active\"\n",
    "        ),\n",
    "        'program_type': genai.protos.Schema(\n",
    "            type=genai.protos.Type.STRING,\n",
    "            enum=[\n",
    "                \"browser\",\n",
    "                \"email\",\n",
    "                \"chat\",\n",
    "                \"calendar\"\n",
    "            ],\n",
    "            description=\"Type of the program\"\n",
    "        ),\n",
    "        'program_info': genai.protos.Schema(\n",
    "            type=genai.protos.Type.STRING,\n",
    "            description=\"valid json information about the program based on the program type, e.g email client with email showing should have subject, body text, content, sender, etc. if it is a browser it will be the url, page title, etc. if it is a calendar it will be the date, time, highlighted, conflict\"\n",
    "        ),\n",
    "\n",
    "    },\n",
    "    required=['program_name', 'program_description', 'program_type']\n",
    ")"
   ]
  },
  {
   "cell_type": "code",
   "execution_count": 4,
   "metadata": {},
   "outputs": [],
   "source": [
    "screenshot_data_schema = genai.protos.Schema(\n",
    "    type=genai.protos.Type.OBJECT,\n",
    "    properties={\n",
    "        'general_scene_description': genai.protos.Schema(\n",
    "            type=genai.protos.Type.STRING,\n",
    "            description=\"Description of screenshot and user activity in the scene. Including text in Email body\"\n",
    "        ),\n",
    "        'programs_in_scene': genai.protos.Schema(\n",
    "            type=genai.protos.Type.ARRAY,\n",
    "            items=programs,\n",
    "            description=\"An array of all programs running in the screenshot it may only be one\"\n",
    "        ),\n",
    "        'mouse_action': genai.protos.Schema(\n",
    "            type=genai.protos.Type.STRING,\n",
    "            description=\"what the user is doing with the mouse, hovering a button, clicking a button, etc.\"\n",
    "        )\n",
    "    },\n",
    "    required=['general_scene_description', 'programs_in_scene', 'mouse_action']\n",
    ")"
   ]
  },
  {
   "cell_type": "code",
   "execution_count": 5,
   "metadata": {},
   "outputs": [],
   "source": [
    "screenshot_tools = genai.protos.FunctionDeclaration(\n",
    "    name=\"screenshot_data\",\n",
    "    description=\"Get data about the screenshot and what the user is doing with the mouse\",\n",
    "    parameters=screenshot_data_schema\n",
    ")"
   ]
  },
  {
   "cell_type": "code",
   "execution_count": 6,
   "metadata": {},
   "outputs": [],
   "source": [
    "model = genai.GenerativeModel(\n",
    "    \"gemini-1.5-pro-latest\",\n",
    "    tools=[screenshot_tools]\n",
    ")"
   ]
  },
  {
   "cell_type": "markdown",
   "metadata": {},
   "source": [
    "# Images to text"
   ]
  },
  {
   "cell_type": "code",
   "execution_count": 10,
   "metadata": {},
   "outputs": [
    {
     "name": "stdout",
     "output_type": "stream",
     "text": [
      "output_01.jpg\n",
      "output_02.jpg\n",
      "output_03.jpg\n",
      "output_04.jpg\n",
      "output_05.jpg\n",
      "output_06.jpg\n",
      "output_07.jpg\n",
      "output_08.jpg\n",
      "output_09.jpg\n",
      "output_10.jpg\n",
      "output_11.jpg\n",
      "output_12.jpg\n",
      "output_13.jpg\n",
      "output_14.jpg\n"
     ]
    }
   ],
   "source": [
    "\n",
    "current_dir = os.getcwd()\n",
    "image_dir = os.path.join(current_dir, \"final_images\")\n",
    "\n",
    "files = sorted(os.listdir(image_dir), \n",
    "              key=lambda x: int(x.replace('output_', '').split('.')[0]))\n",
    "results = []\n",
    "for file in files: #[21:22]:\n",
    "    print(f\"{file}\")\n",
    "    image = Image.open(os.path.join(image_dir, file))\n",
    "    result = model.generate_content(\n",
    "        [\"describe the screenshot and what the user is doing with the mouse\", image]\n",
    "    )\n",
    "    results.append(result)"
   ]
  },
  {
   "cell_type": "code",
   "execution_count": 11,
   "metadata": {},
   "outputs": [],
   "source": [
    "def get_text_from_result(result):\n",
    "    # Convert MapComposite to regular dictionary\n",
    "    data_dict = dict(result.candidates[0].content.parts[0].function_call.args)\n",
    "    # print(data_dict)\n",
    "    # If you need text/string values\n",
    "    text_data = {}\n",
    "    for key, value in data_dict.items():\n",
    "        if hasattr(value, 'text_value'):\n",
    "            text_data[key] = value.text_value\n",
    "        elif isinstance(value, str):\n",
    "            text_data[key] = value\n",
    "        elif key == 'programs_in_scene':\n",
    "            for k in ['program_name', 'program_description', 'program_type']:\n",
    "                text_data[k] = dict(value[0]).get(k,'Unknown')\n",
    "\n",
    "            \n",
    "    return text_data\n",
    "\n",
    "json_data_from_images = [{\"action\":get_text_from_result(result)} for result in results]\n"
   ]
  },
  {
   "cell_type": "code",
   "execution_count": 12,
   "metadata": {},
   "outputs": [
    {
     "name": "stdout",
     "output_type": "stream",
     "text": [
      "1: {'action': {'mouse_action': 'The mouse cursor is hovering over the \"+\" button to create a new message.', 'general_scene_description': 'The screenshot shows an empty inbox in the Outlook email client. The message \"All done for the day. Enjoy your empty inbox.\" is displayed.', 'program_name': 'Outlook', 'program_description': 'The Outlook email client is open in a browser window.', 'program_type': 'email'}}\n",
      "2: {'action': {'program_name': 'Outlook', 'program_description': 'The Outlook web application is open in the browser window.', 'program_type': 'email', 'general_scene_description': 'The screenshot shows an empty inbox in the Outlook web application. The message \"All done for the day\\\\nEnjoy your empty inbox.\" is displayed.', 'mouse_action': 'The mouse cursor is hovering over the minimize button of the browser window.'}}\n",
      "3: {'action': {'mouse_action': 'The mouse cursor is hovering over the email subject.', 'program_name': 'Outlook', 'program_description': 'The user is viewing their Outlook email inbox in a browser.', 'program_type': 'email', 'general_scene_description': 'The screenshot shows an email inbox in Outlook. The user is viewing an email with the subject \"Box size change request\" from \"isseki\". The email body starts with \"Hi, The boxes you use for the ship...\".'}}\n",
      "4: {'action': {'program_name': 'Outlook', 'program_description': 'The main program shown is the Outlook email client.', 'program_type': 'email', 'general_scene_description': 'The screenshot shows an Outlook email client open in a web browser. The user has received an email with the subject \"Box size change request\" from \"isseki\". The email body starts with \"Hi, The boxes you use for the ship...\".  The user has not selected any emails to read and has no emails in focus.', 'mouse_action': 'The mouse cursor is hovering near the top right corner of the browser window, likely near the close or minimize buttons.'}}\n",
      "5: {'action': {'mouse_action': 'The mouse cursor is hovering over the email list.', 'general_scene_description': 'The screenshot shows an Outlook email client open in a browser. The user is viewing an email with the subject \"Box size change request\" from \"isseki\". The email body reads, \"Hi, The boxes you use for the ship...\".', 'program_name': 'Outlook', 'program_description': 'The user is viewing their Outlook email inbox in a browser window.', 'program_type': 'email'}}\n",
      "6: {'action': {'general_scene_description': 'The screenshot shows an email from isseki about a box size change request. The email body reads \"Hi, The boxes you use for the ship...\".', 'program_name': 'Outlook', 'program_description': 'The program shown is an email client.', 'program_type': 'email', 'mouse_action': 'The mouse cursor is hovering over the email body.'}}\n",
      "7: {'action': {'general_scene_description': 'The screenshot shows an open email in the Outlook web application. The email is from \"isseki\" with the subject \"Box size change request\". The email body requests the recipient to ship their product in smaller boxes next time as the current box size is causing handling problems for the workers. The user is hovering over the email body text.', 'program_name': 'Outlook', 'program_description': 'The user is reading an email from isseki about box size change request.', 'program_type': 'email', 'mouse_action': 'Hovering over email body text'}}\n",
      "8: {'action': {'general_scene_description': 'The screenshot shows an email open in the Outlook web app. The email is from isseki<isseki.ni.to@gmail.com> and is about a box size change request. The sender is requesting the recipient to ship their product in smaller boxes next time as the current box size is too big for their workers to handle. The user is hovering their mouse over the email body.', 'mouse_action': 'Hovering over email body', 'program_name': 'Outlook', 'program_description': 'The user is reading an email in outlook.', 'program_type': 'email'}}\n",
      "9: {'action': {'general_scene_description': 'The screenshot shows an email draft in Outlook. The user is replying to a request to change the box size. The email thread starts with a message from \"isseki\" reporting that the boxes were too big. The user is drafting a reply agreeing to use smaller boxes next time.', 'mouse_action': 'The mouse cursor is hovering over the \"Send\" button.', 'program_name': 'Outlook', 'program_description': 'The main program in view is the Outlook email client.', 'program_type': 'email'}}\n",
      "10: {'action': {'general_scene_description': 'The screenshot shows an email client open with a draft email. The user is replying to a request to change box sizes. The original email states that the boxes were too big. The user replies stating there is no problem and they will use smaller boxes next time.', 'program_name': 'Outlook', 'program_description': 'The program is an email client.', 'program_type': 'email', 'mouse_action': 'The mouse cursor is hovering over the \"Send\" button.'}}\n",
      "11: {'action': {'mouse_action': 'clicking a button', 'general_scene_description': 'The screenshot shows an email client open in a browser. The user is replying to an email about box size change request. The user is about to click the send button.', 'program_name': 'Outlook', 'program_description': 'The email client is open in the browser and displaying a reply to an email.', 'program_type': 'email'}}\n",
      "12: {'action': {'general_scene_description': 'The screenshot shows an email client open with a draft email. The user is about to send an email with the subject \"Box size change request\". The email body reads:\\\\n\\\\nHi,\\\\n\\\\nThe boxes you use for the shipment were too big. Our workers had problems handling them.\\\\n\\\\nCould you ship your product in smaller boxes next time, please?\\\\n\\\\n---\\\\n\\\\nSure, no problem.\\\\n\\\\nNext time, we\\\\\\'ll use small boxes, instead of big ones.\"', 'program_name': 'Outlook', 'program_description': 'The email client is open and displaying a draft email.', 'program_type': 'email', 'mouse_action': 'The mouse cursor is hovering over the \"Send\" button.'}}\n",
      "13: {'action': {'general_scene_description': 'The screenshot shows an email exchange between Ka Ya and isseki regarding a box size change request.  Isseki sent an email to Ka Ya saying the boxes were too big and requested smaller ones in the future.  Ka Ya replied, agreeing to use smaller boxes next time.', 'program_name': 'Outlook', 'program_description': 'An email client open to a message thread.', 'program_type': 'email', 'mouse_action': 'The mouse cursor is hovering at the bottom of the email thread.'}}\n",
      "14: {'action': {'program_name': 'Outlook', 'program_description': 'The email client shows the email thread.', 'program_type': 'email', 'general_scene_description': 'The screenshot shows an email exchange between Ka Ya and isseki regarding a box size change request.  Isseki sent an email to Ka Ya saying the boxes were too big and requested smaller ones in the future. Ka Ya replied, agreeing to use smaller boxes next time.', 'mouse_action': 'The mouse cursor is hovering at the end of the email thread.'}}\n"
     ]
    }
   ],
   "source": [
    "for i, j in enumerate(json_data_from_images):\n",
    "    print(f\"{i+1}: {j}\")\n",
    "    os.makedirs('json_data_from_images', exist_ok=True)\n",
    "    with open(f'json_data_from_images/{i+1:02d}.json', 'w') as f:\n",
    "        json.dump(j, f)"
   ]
  },
  {
   "cell_type": "markdown",
   "metadata": {},
   "source": [
    "# knowledge_base: generate what and why database "
   ]
  },
  {
   "cell_type": "code",
   "execution_count": 13,
   "metadata": {},
   "outputs": [],
   "source": [
    "llm = genai.GenerativeModel(\n",
    "    \"gemini-1.5-pro-latest\"\n",
    ")"
   ]
  },
  {
   "cell_type": "code",
   "execution_count": 14,
   "metadata": {},
   "outputs": [
    {
     "name": "stdout",
     "output_type": "stream",
     "text": [
      "1: data [{'action': {'program_name': 'Outlook', 'program_description': 'The Outlook web application is open in the browser window.', 'program_type': 'email', 'general_scene_description': 'The screenshot shows an empty inbox in the Outlook web application. The message \"All done for the day\\\\nEnjoy your empty inbox.\" is displayed.', 'mouse_action': 'The mouse cursor is hovering over the minimize button of the browser window.'}}, {'action': {'mouse_action': 'The mouse cursor is hovering over the email subject.', 'program_name': 'Outlook', 'program_description': 'The user is viewing their Outlook email inbox in a browser.', 'program_type': 'email', 'general_scene_description': 'The screenshot shows an email inbox in Outlook. The user is viewing an email with the subject \"Box size change request\" from \"isseki\". The email body starts with \"Hi, The boxes you use for the ship...\".'}}]: \n",
      "{\n",
      "  \"what\": \"The user was viewing an email with the subject \\\"Box size change request\\\" from \\\"isseki\\\" in their Outlook inbox within a web browser. The email body begins with \\\"Hi, The boxes you use for the ship...\\\".  After viewing the email, the user moved the mouse cursor to hover over the browser window's minimize button.\",\n",
      "  \"why\": \"The user likely minimized the browser window after reading the email, suggesting they were finished with it for the moment and wanted to move on to another task or clear their screen. The initial empty inbox state and \\\"All done for the day\\\" message further supports that they were wrapping up their email activities.\"\n",
      "}\n",
      "\n",
      "\n",
      "2: data [{'action': {'mouse_action': 'The mouse cursor is hovering over the email subject.', 'program_name': 'Outlook', 'program_description': 'The user is viewing their Outlook email inbox in a browser.', 'program_type': 'email', 'general_scene_description': 'The screenshot shows an email inbox in Outlook. The user is viewing an email with the subject \"Box size change request\" from \"isseki\". The email body starts with \"Hi, The boxes you use for the ship...\".'}}, {'action': {'program_name': 'Outlook', 'program_description': 'The main program shown is the Outlook email client.', 'program_type': 'email', 'general_scene_description': 'The screenshot shows an Outlook email client open in a web browser. The user has received an email with the subject \"Box size change request\" from \"isseki\". The email body starts with \"Hi, The boxes you use for the ship...\".  The user has not selected any emails to read and has no emails in focus.', 'mouse_action': 'The mouse cursor is hovering near the top right corner of the browser window, likely near the close or minimize buttons.'}}]: \n",
      "{\n",
      "  \"what\": \"The user was viewing the subject line of an email about a box size change request from \\\"isseki\\\" in their Outlook inbox. Then, the user moved their mouse towards the top right corner of the browser window, likely towards the close or minimize buttons.\",\n",
      "  \"why\": \"The user likely moved their mouse towards the close or minimize buttons after reading the email subject because they decided they didn't need to open and read the email at that moment. The subject line provided enough information to understand the email's topic, and the user might have chosen to close or minimize the window to deal with it later or prioritize other tasks.\"\n",
      "}\n",
      "\n",
      "\n",
      "3: data [{'action': {'program_name': 'Outlook', 'program_description': 'The main program shown is the Outlook email client.', 'program_type': 'email', 'general_scene_description': 'The screenshot shows an Outlook email client open in a web browser. The user has received an email with the subject \"Box size change request\" from \"isseki\". The email body starts with \"Hi, The boxes you use for the ship...\".  The user has not selected any emails to read and has no emails in focus.', 'mouse_action': 'The mouse cursor is hovering near the top right corner of the browser window, likely near the close or minimize buttons.'}}, {'action': {'mouse_action': 'The mouse cursor is hovering over the email list.', 'general_scene_description': 'The screenshot shows an Outlook email client open in a browser. The user is viewing an email with the subject \"Box size change request\" from \"isseki\". The email body reads, \"Hi, The boxes you use for the ship...\".', 'program_name': 'Outlook', 'program_description': 'The user is viewing their Outlook email inbox in a browser window.', 'program_type': 'email'}}]: \n",
      "{\n",
      "  \"what\": \"The user opened an email with the subject \\\"Box size change request\\\" from \\\"isseki\\\" in their Outlook web client.\",\n",
      "  \"why\": \"The user likely wanted to read the email about the box size change request from \\\"isseki\\\".  Initially, the mouse was near the browser controls, but then moved to interact with the email list, indicating the intention to open and read a specific email.\"\n",
      "}\n",
      "\n",
      "\n",
      "4: data [{'action': {'mouse_action': 'The mouse cursor is hovering over the email list.', 'general_scene_description': 'The screenshot shows an Outlook email client open in a browser. The user is viewing an email with the subject \"Box size change request\" from \"isseki\". The email body reads, \"Hi, The boxes you use for the ship...\".', 'program_name': 'Outlook', 'program_description': 'The user is viewing their Outlook email inbox in a browser window.', 'program_type': 'email'}}, {'action': {'general_scene_description': 'The screenshot shows an email from isseki about a box size change request. The email body reads \"Hi, The boxes you use for the ship...\".', 'program_name': 'Outlook', 'program_description': 'The program shown is an email client.', 'program_type': 'email', 'mouse_action': 'The mouse cursor is hovering over the email body.'}}]: \n",
      "{\n",
      "  \"what\": \"The user is viewing an email from \\\"isseki\\\" with the subject \\\"Box size change request\\\" in their Outlook inbox within a browser window. They initially hovered their mouse over the email list and then moved it to hover over the body of the email itself.\",\n",
      "  \"why\": \"The user is likely interested in the content of the email from \\\"isseki\\\" regarding a \\\"Box size change request.\\\"  Hovering over the email list first suggests they were scanning their inbox, and moving the cursor to the email body indicates their intention to read or further interact with this specific email.\"\n",
      "}\n",
      "\n",
      "\n",
      "5: data [{'action': {'general_scene_description': 'The screenshot shows an email from isseki about a box size change request. The email body reads \"Hi, The boxes you use for the ship...\".', 'program_name': 'Outlook', 'program_description': 'The program shown is an email client.', 'program_type': 'email', 'mouse_action': 'The mouse cursor is hovering over the email body.'}}, {'action': {'general_scene_description': 'The screenshot shows an open email in the Outlook web application. The email is from \"isseki\" with the subject \"Box size change request\". The email body requests the recipient to ship their product in smaller boxes next time as the current box size is causing handling problems for the workers. The user is hovering over the email body text.', 'program_name': 'Outlook', 'program_description': 'The user is reading an email from isseki about box size change request.', 'program_type': 'email', 'mouse_action': 'Hovering over email body text'}}]: \n",
      "{\n",
      "  \"what\": \"The user is reading an email from Isseki about a box size change request in Outlook.\",\n",
      "  \"why\": \"The user is likely reading the email to understand the details of the request from Isseki and determine what actions they need to take, such as changing the box size for future shipments.\"\n",
      "}\n",
      "\n",
      "\n",
      "6: data [{'action': {'general_scene_description': 'The screenshot shows an open email in the Outlook web application. The email is from \"isseki\" with the subject \"Box size change request\". The email body requests the recipient to ship their product in smaller boxes next time as the current box size is causing handling problems for the workers. The user is hovering over the email body text.', 'program_name': 'Outlook', 'program_description': 'The user is reading an email from isseki about box size change request.', 'program_type': 'email', 'mouse_action': 'Hovering over email body text'}}, {'action': {'general_scene_description': 'The screenshot shows an email open in the Outlook web app. The email is from isseki<isseki.ni.to@gmail.com> and is about a box size change request. The sender is requesting the recipient to ship their product in smaller boxes next time as the current box size is too big for their workers to handle. The user is hovering their mouse over the email body.', 'mouse_action': 'Hovering over email body', 'program_name': 'Outlook', 'program_description': 'The user is reading an email in outlook.', 'program_type': 'email'}}]: \n",
      "{\n",
      "  \"what\": \"The user is reading an email from \\\"isseki\\\" in Outlook web application about a request to change the size of the boxes used for shipping products. The email explains that the current box size is causing handling difficulties for the workers.\",\n",
      "  \"why\": \"The user is likely hovering over the email body text to carefully read and understand the request from \\\"isseki\\\" regarding the box size change. This suggests they are considering the implications of the request and potentially formulating a response.\"\n",
      "}\n",
      "\n",
      "\n",
      "7: data [{'action': {'general_scene_description': 'The screenshot shows an email open in the Outlook web app. The email is from isseki<isseki.ni.to@gmail.com> and is about a box size change request. The sender is requesting the recipient to ship their product in smaller boxes next time as the current box size is too big for their workers to handle. The user is hovering their mouse over the email body.', 'mouse_action': 'Hovering over email body', 'program_name': 'Outlook', 'program_description': 'The user is reading an email in outlook.', 'program_type': 'email'}}, {'action': {'general_scene_description': 'The screenshot shows an email draft in Outlook. The user is replying to a request to change the box size. The email thread starts with a message from \"isseki\" reporting that the boxes were too big. The user is drafting a reply agreeing to use smaller boxes next time.', 'mouse_action': 'The mouse cursor is hovering over the \"Send\" button.', 'program_name': 'Outlook', 'program_description': 'The main program in view is the Outlook email client.', 'program_type': 'email'}}]: \n",
      "{\n",
      "  \"what\": \"The user is replying to an email about a box size change request. They are composing an email in Outlook, agreeing to use smaller boxes for future shipments.\",\n",
      "  \"why\": \"The user is hovering over the \\\"Send\\\" button, indicating their intention to send the reply and confirm the change in box size as requested by the original sender.\"\n",
      "}\n",
      "\n",
      "\n",
      "8: data [{'action': {'general_scene_description': 'The screenshot shows an email draft in Outlook. The user is replying to a request to change the box size. The email thread starts with a message from \"isseki\" reporting that the boxes were too big. The user is drafting a reply agreeing to use smaller boxes next time.', 'mouse_action': 'The mouse cursor is hovering over the \"Send\" button.', 'program_name': 'Outlook', 'program_description': 'The main program in view is the Outlook email client.', 'program_type': 'email'}}, {'action': {'general_scene_description': 'The screenshot shows an email client open with a draft email. The user is replying to a request to change box sizes. The original email states that the boxes were too big. The user replies stating there is no problem and they will use smaller boxes next time.', 'program_name': 'Outlook', 'program_description': 'The program is an email client.', 'program_type': 'email', 'mouse_action': 'The mouse cursor is hovering over the \"Send\" button.'}}]: \n",
      "{\n",
      "  \"what\": \"The user is replying to an email regarding a request to change box sizes. They are agreeing to use smaller boxes in the future.\",\n",
      "  \"why\": \"The user is clicking the \\\"Send\\\" button to send the reply email and confirm the agreement to use smaller boxes next time.\"\n",
      "}\n",
      "\n",
      "\n",
      "9: data [{'action': {'general_scene_description': 'The screenshot shows an email client open with a draft email. The user is replying to a request to change box sizes. The original email states that the boxes were too big. The user replies stating there is no problem and they will use smaller boxes next time.', 'program_name': 'Outlook', 'program_description': 'The program is an email client.', 'program_type': 'email', 'mouse_action': 'The mouse cursor is hovering over the \"Send\" button.'}}, {'action': {'mouse_action': 'clicking a button', 'general_scene_description': 'The screenshot shows an email client open in a browser. The user is replying to an email about box size change request. The user is about to click the send button.', 'program_name': 'Outlook', 'program_description': 'The email client is open in the browser and displaying a reply to an email.', 'program_type': 'email'}}]: \n",
      "{\n",
      "  \"what\": \"The user is replying to an email about a request to change box sizes. The user is indicating that there is no problem and they will use smaller boxes next time.  The user composed this reply in Outlook and is now sending the email.\",\n",
      "  \"why\": \"The user is sending the email to respond to the request about box sizes and confirm that they will use smaller boxes in the future.\"\n",
      "}\n",
      "\n",
      "\n",
      "10: data [{'action': {'mouse_action': 'clicking a button', 'general_scene_description': 'The screenshot shows an email client open in a browser. The user is replying to an email about box size change request. The user is about to click the send button.', 'program_name': 'Outlook', 'program_description': 'The email client is open in the browser and displaying a reply to an email.', 'program_type': 'email'}}, {'action': {'general_scene_description': 'The screenshot shows an email client open with a draft email. The user is about to send an email with the subject \"Box size change request\". The email body reads:\\\\n\\\\nHi,\\\\n\\\\nThe boxes you use for the shipment were too big. Our workers had problems handling them.\\\\n\\\\nCould you ship your product in smaller boxes next time, please?\\\\n\\\\n---\\\\n\\\\nSure, no problem.\\\\n\\\\nNext time, we\\\\\\'ll use small boxes, instead of big ones.\"', 'program_name': 'Outlook', 'program_description': 'The email client is open and displaying a draft email.', 'program_type': 'email', 'mouse_action': 'The mouse cursor is hovering over the \"Send\" button.'}}]: \n",
      "{\n",
      "  \"what\": \"The user is replying to an email about a box size change request and is clicking the \\\"Send\\\" button to send the reply.\",\n",
      "  \"why\": \"The user is clicking the \\\"Send\\\" button to send their reply to the box size change request email.  The reply agrees to use smaller boxes for future shipments.\"\n",
      "}\n",
      "\n",
      "\n",
      "11: data [{'action': {'general_scene_description': 'The screenshot shows an email client open with a draft email. The user is about to send an email with the subject \"Box size change request\". The email body reads:\\\\n\\\\nHi,\\\\n\\\\nThe boxes you use for the shipment were too big. Our workers had problems handling them.\\\\n\\\\nCould you ship your product in smaller boxes next time, please?\\\\n\\\\n---\\\\n\\\\nSure, no problem.\\\\n\\\\nNext time, we\\\\\\'ll use small boxes, instead of big ones.\"', 'program_name': 'Outlook', 'program_description': 'The email client is open and displaying a draft email.', 'program_type': 'email', 'mouse_action': 'The mouse cursor is hovering over the \"Send\" button.'}}, {'action': {'general_scene_description': 'The screenshot shows an email exchange between Ka Ya and isseki regarding a box size change request.  Isseki sent an email to Ka Ya saying the boxes were too big and requested smaller ones in the future.  Ka Ya replied, agreeing to use smaller boxes next time.', 'program_name': 'Outlook', 'program_description': 'An email client open to a message thread.', 'program_type': 'email', 'mouse_action': 'The mouse cursor is hovering at the bottom of the email thread.'}}]: \n",
      "{\n",
      "  \"what\": \"The user composed and is sending an email requesting a change in box size for future shipments.\",\n",
      "  \"why\": \"The user experienced difficulties handling the current size of boxes and wants the supplier to use smaller boxes for subsequent shipments to facilitate easier handling.\"\n",
      "}\n",
      "\n",
      "\n"
     ]
    }
   ],
   "source": [
    "# read all json files in json_data_from_images json files\n",
    "file_count_in_folder = len(os.listdir('json_data_from_images'))\n",
    "json_data_from_images = [json.load(open(f'json_data_from_images/{i+1:02d}.json')) for i in range(file_count_in_folder)]\n",
    "json_data_from_images\n",
    "\n",
    "knowledge_base = []\n",
    "for i in range(1,len(json_data_from_images)-2):\n",
    "    data = json_data_from_images[i:i+2]\n",
    "    response =llm.generate_content([f\"Describe in details what the user is doing and why the user took the last action. Return the results in json format whith two keys: 'what' and 'why'. Here is the situation data: {data}\"])\n",
    "    knowledge_base.append(response.candidates[0].content.parts[0].text.replace(\"```json\",\"\").replace(\"```\",\"\"))\n",
    "    print(f\"{i}: data {data}: {knowledge_base[-1]}\")"
   ]
  },
  {
   "cell_type": "code",
   "execution_count": 15,
   "metadata": {},
   "outputs": [],
   "source": [
    "os.makedirs('knowledge_base', exist_ok=True)\n",
    "with open(f'knowledge_base/knowledge_base.json', 'w') as f:\n",
    "    json.dump(knowledge_base, f)\n"
   ]
  },
  {
   "cell_type": "markdown",
   "metadata": {},
   "source": [
    "# Ask Joshu"
   ]
  },
  {
   "cell_type": "code",
   "execution_count": 18,
   "metadata": {},
   "outputs": [
    {
     "name": "stdout",
     "output_type": "stream",
     "text": [
      "The user will likely reply to Isseki's email about box sizes.  Based on the past interactions, the user previously agreed to use smaller boxes due to handling difficulties.  Therefore, the user will likely reply confirming the use of the smaller box size for the next shipment.  They might also reiterate the reason for the change (easier handling) to ensure Isseki understands and remembers the agreement.\n",
      "\n"
     ]
    }
   ],
   "source": [
    "email=\"\"\"\n",
    "email from isseki: I’m checking that everything is OK for the next shipment.\n",
    " \n",
    "I hope there won’t be any problems with box sizes.\n",
    "\"\"\"\n",
    "\n",
    "system_prompt = f\"\"\"Your objective as an assistant is to utilize the lessons learnt and information provided in the past.\n",
    "The following is the information about what happened in the past. {knowledge_base}. \"\"\"\n",
    "response =llm.generate_content([f\"\"\"\n",
    "\n",
    "{system_prompt}\n",
    "\n",
    "{email}\n",
    "what box size shoud I use for the next shipment?\"\"\",])\n",
    "print(response.candidates[0].content.parts[0].text)"
   ]
  },
  {
   "cell_type": "code",
   "execution_count": null,
   "metadata": {},
   "outputs": [],
   "source": []
  }
 ],
 "metadata": {
  "kernelspec": {
   "display_name": "baton-pass",
   "language": "python",
   "name": "python3"
  },
  "language_info": {
   "codemirror_mode": {
    "name": "ipython",
    "version": 3
   },
   "file_extension": ".py",
   "mimetype": "text/x-python",
   "name": "python",
   "nbconvert_exporter": "python",
   "pygments_lexer": "ipython3",
   "version": "3.10.12"
  }
 },
 "nbformat": 4,
 "nbformat_minor": 2
}
